{
 "cells": [
  {
   "cell_type": "markdown",
   "id": "42af0260",
   "metadata": {},
   "source": [
    "# Deutsch Algorithm\n",
    "\n",
    "## Problem:\n",
    "Given some Function $ f: \\{0,1\\} \\rightarrow \\{0,1\\} $ can we predict if the function is stationary (same output for any input x) or if it is balanced (function outputs both 0 and 1 for different values of x).\n",
    "\n",
    "With classical computing we need to \"run\" the function twice. We put in 0 and see what comes out and than do the same for x=1 if both outputs are equal the function is stationary and if the outputs differ the function is balanced. Now how many runs does a quantum computer need?"
   ]
  },
  {
   "cell_type": "code",
   "execution_count": 1,
   "id": "ad6f62a5",
   "metadata": {},
   "outputs": [],
   "source": [
    "import qiskit\n",
    "from qiskit.visualization import plot_histogram\n",
    "from math import sqrt"
   ]
  },
  {
   "cell_type": "code",
   "execution_count": 2,
   "id": "31ffe4e9",
   "metadata": {},
   "outputs": [],
   "source": [
    "backend = qiskit.Aer.get_backend(\"aer_simulator\")\n"
   ]
  },
  {
   "cell_type": "markdown",
   "id": "d881fe4d",
   "metadata": {},
   "source": [
    "There are 4 possible functions.\n",
    "\n",
    "two balanced functions\n",
    "\n",
    "$f_{1}(0) \\rightarrow  0 $    \n",
    "\n",
    "$f_{1}(1) \\rightarrow  1 $\n",
    "\n",
    "$f_{2}(0) \\rightarrow  1 $\n",
    "\n",
    "$f_{2}(1) \\rightarrow  0 $\n",
    "\n",
    "and two constant functions\n",
    "\n",
    "$f_{3}(0) \\rightarrow  1$\n",
    "\n",
    "$f_{3}(1) \\rightarrow  1$\n",
    "\n",
    "no logic gate:\n",
    "\n",
    "$f_{4}(0) \\rightarrow  0$\n",
    "\n",
    "$f_{4}(1) \\rightarrow  0$\n",
    "\n",
    "each of these functions can be represented by a combination of not and cnot gates"
   ]
  },
  {
   "cell_type": "code",
   "execution_count": 44,
   "id": "3df60d02",
   "metadata": {},
   "outputs": [],
   "source": [
    "# oracle\n",
    "def oracle(circuit, function=1):\n",
    "    if function == 1:\n",
    "        circuit.cx(1, 0)\n",
    "    if function == 2:\n",
    "        circuit.x(0)\n",
    "        circuit.cx(1, 0)\n",
    "    if function == 3:\n",
    "        circuit.x(0)\n",
    "    \n",
    "    return circuit"
   ]
  },
  {
   "cell_type": "code",
   "execution_count": 55,
   "id": "69e1657a",
   "metadata": {
    "scrolled": true
   },
   "outputs": [
    {
     "data": {
      "image/png": "[encoded data removed]",
      "text/plain": [
       "<Figure size 504x360 with 1 Axes>"
      ]
     },
     "execution_count": 55,
     "metadata": {},
     "output_type": "execute_result"
    }
   ],
   "source": [
    "qc = qiskit.QuantumCircuit(2, 1)\n",
    "qc.x(1)\n",
    "\n",
    "qc = oracle(qc, function=2)\n",
    "\n",
    "qc.measure(0, 0)\n",
    "\n",
    "result = qiskit.execute(qc, backend=backend).result()\n",
    "plot_histogram(result.get_counts())"
   ]
  },
  {
   "cell_type": "code",
   "execution_count": 54,
   "id": "a29ac3a1",
   "metadata": {},
   "outputs": [
    {
     "data": {
      "image/png": "[encoded data removed]",
      "text/plain": [
       "<Figure size 206.852x204.68 with 1 Axes>"
      ]
     },
     "execution_count": 54,
     "metadata": {},
     "output_type": "execute_result"
    }
   ],
   "source": [
    "qc.draw(output=\"mpl\")"
   ]
  },
  {
   "cell_type": "code",
   "execution_count": 67,
   "id": "cdaab3e3",
   "metadata": {},
   "outputs": [
    {
     "data": {
      "image/png": "[encoded data removed]",
      "text/plain": [
       "<Figure size 568.052x204.68 with 1 Axes>"
      ]
     },
     "execution_count": 67,
     "metadata": {},
     "output_type": "execute_result"
    }
   ],
   "source": [
    "qc = qiskit.QuantumCircuit(2, 1)\n",
    "\n",
    "qc.x(0)\n",
    "qc.h(0)\n",
    "qc.h(1)\n",
    "qc.barrier()\n",
    "qc = oracle(qc, function=1)\n",
    "qc.barrier()\n",
    "qc.h(1)\n",
    "\n",
    "qc.barrier()\n",
    "\n",
    "\n",
    "qc.measure(1, 0)\n",
    "\n",
    "qc.draw(output=\"mpl\")"
   ]
  },
  {
   "cell_type": "code",
   "execution_count": 68,
   "id": "10d28afa",
   "metadata": {},
   "outputs": [
    {
     "data": {
      "image/png": "[encoded data removed]",
      "text/plain": [
       "<Figure size 504x360 with 1 Axes>"
      ]
     },
     "execution_count": 68,
     "metadata": {},
     "output_type": "execute_result"
    }
   ],
   "source": [
    "result = qiskit.execute(qc, backend=backend).result()\n",
    "plot_histogram(result.get_counts())"
   ]
  },
  {
   "cell_type": "markdown",
   "id": "8305ef09",
   "metadata": {},
   "source": [
    "### Explanation\n",
    "The wave function of this 2qbit system looks as follows:\n",
    "\n",
    "$|\\psi> = \\frac{1}{2}(|1> + |0>)\\otimes(|1> -|0>)$\n",
    "\n",
    "We can now simply look how each of these for functions swaps the probabilty amplitudes. $f_{1}$ and $f_{3}$ change the state of the control qbit from $|\\psi> = \\frac{1}{\\sqrt{2}}(|1> + |0>)$ to $|\\psi> = \\frac{1}{\\sqrt{2}}(|1> - |0>)$, so after applying the Hadamard gate we measure one.\n",
    "\n",
    "$f_{3}$ and $f_{4}$ on the other hand have no effect on the state of qbit one, and we measure 0.\n",
    "\n",
    "So whenever a function is constant we measure 0 and we measure 1 for every balanced function"
   ]
  },
  {
   "cell_type": "code",
   "execution_count": null,
   "id": "46b2bdd7",
   "metadata": {},
   "outputs": [],
   "source": []
  }
 ],
 "metadata": {
  "kernelspec": {
   "display_name": "Python 3 (ipykernel)",
   "language": "python",
   "name": "python3"
  },
  "language_info": {
   "codemirror_mode": {
    "name": "ipython",
    "version": 3
   },
   "file_extension": ".py",
   "mimetype": "text/x-python",
   "name": "python",
   "nbconvert_exporter": "python",
   "pygments_lexer": "ipython3",
   "version": "3.8.10"
  }
 },
 "nbformat": 4,
 "nbformat_minor": 5
}
